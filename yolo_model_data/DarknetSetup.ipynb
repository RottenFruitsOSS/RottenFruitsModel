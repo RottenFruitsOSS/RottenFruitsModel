{
  "nbformat": 4,
  "nbformat_minor": 0,
  "metadata": {
    "colab": {
      "name": "DarknetSetup.ipynb",
      "provenance": [],
      "authorship_tag": "ABX9TyOb42CCV6aMAHfyeBRW+8kl",
      "include_colab_link": true
    },
    "kernelspec": {
      "name": "python3",
      "display_name": "Python 3"
    }
  },
  "cells": [
    {
      "cell_type": "markdown",
      "metadata": {
        "id": "view-in-github",
        "colab_type": "text"
      },
      "source": [
        "<a href=\"https://colab.research.google.com/github/Jeonyujeong/RottenFruitsModel/blob/master/DarknetSetup.ipynb\" target=\"_parent\"><img src=\"https://colab.research.google.com/assets/colab-badge.svg\" alt=\"Open In Colab\"/></a>"
      ]
    },
    {
      "cell_type": "markdown",
      "metadata": {
        "id": "Gqb0mryVet0n",
        "colab_type": "text"
      },
      "source": [
        "## 1. Connect the Colab notebook to Google Drive"
      ]
    },
    {
      "cell_type": "code",
      "metadata": {
        "id": "BP1bw9f6ebOF",
        "colab_type": "code",
        "colab": {}
      },
      "source": [
        "from google.colab import drive\n",
        "drive.mount('/content/gdrive')"
      ],
      "execution_count": null,
      "outputs": []
    },
    {
      "cell_type": "markdown",
      "metadata": {
        "id": "PCVZA_fWgo0m",
        "colab_type": "text"
      },
      "source": [
        "## 2. Install cuDNN according to the current CUDA version\n",
        "\n",
        "- Check CUDA release version\n",
        "\n"
      ]
    },
    {
      "cell_type": "code",
      "metadata": {
        "id": "XYNeV8LIe6ys",
        "colab_type": "code",
        "colab": {}
      },
      "source": [
        "!/usr/local/cuda/bin/nvcc --version"
      ],
      "execution_count": null,
      "outputs": []
    },
    {
      "cell_type": "markdown",
      "metadata": {
        "id": "M6ORGLf-g68C",
        "colab_type": "text"
      },
      "source": [
        "- Download cuDNN from [Nvidia website](https://developer.nvidia.com/cudnn)\n",
        "  - cudnn-10.1-linux-x64-v7.6.5.32.solitairetheme8\n",
        "- Create a folder named cuDNN in folder darknet. Copy the file there.\n",
        "```\n",
        "My Drive/\n",
        "    darknet/\n",
        "      cuDNN/\n",
        "        cudnn-10.1-linux-x64-v7.6.5.32.solitairetheme8\n",
        "```\n"
      ]
    },
    {
      "cell_type": "code",
      "metadata": {
        "id": "lfsDkOsIhfiR",
        "colab_type": "code",
        "colab": {}
      },
      "source": [
        "!tar -xzvf /content/gdrive/My\\ Drive/darknet/cuDNN/cudnn-10.1-linux-x64-v7.6.5.32.solitairetheme8 -C /usr/local/\n",
        "!chmod a+r /usr/local/cuda/include/cudnn.h\n",
        "\n",
        "!cat /usr/local/cuda/include/cudnn.h | grep CUDNN_MAJOR -A 2"
      ],
      "execution_count": null,
      "outputs": []
    },
    {
      "cell_type": "markdown",
      "metadata": {
        "id": "xegWSP3whsqQ",
        "colab_type": "text"
      },
      "source": [
        "## 3. Install Darknet"
      ]
    },
    {
      "cell_type": "code",
      "metadata": {
        "id": "GsQc2z2EiVie",
        "colab_type": "code",
        "colab": {}
      },
      "source": [
        "# Leave this code uncommented on the very first run of your notebook or if you ever need to recompile darknet again.\n",
        "# Comment this code on the future runs.\n",
        "!git clone https://github.com/kriyeng/darknet/\n",
        "%cd darknet\n",
        "\n",
        "# Check the folder\n",
        "!ls\n",
        "\n",
        "# I have a branch where I have done the changes commented above\n",
        "!git checkout feature/google-colab\n",
        "\n",
        "#Compile Darknet\n",
        "!make\n",
        "\n",
        "#Copies the Darknet compiled version to Google drive\n",
        "!cp ./darknet /content/gdrive/My\\ Drive/darknet/bin/darknet"
      ],
      "execution_count": null,
      "outputs": []
    },
    {
      "cell_type": "markdown",
      "metadata": {
        "id": "a7UyNVL-lZLE",
        "colab_type": "text"
      },
      "source": [
        "- Copy cfg, data, weights folders in Google Drive\n",
        "  - darknet 실행에 필요한 folder들을 구글 드라이브에 저장\n",
        "  - darknet53.conv.74 : darknet에서 이미 학습되어진 모델"
      ]
    },
    {
      "cell_type": "code",
      "metadata": {
        "id": "MDu4Fh0B3XW0",
        "colab_type": "code",
        "colab": {}
      },
      "source": [
        "# weigths 폴더 만들기 \n",
        "# /content/darknet/weights\n",
        "!mkdir /content/darknet/weights"
      ],
      "execution_count": null,
      "outputs": []
    },
    {
      "cell_type": "code",
      "metadata": {
        "id": "kzM1UkqymaH3",
        "colab_type": "code",
        "colab": {}
      },
      "source": [
        "%cd /content/darknet/weights\n",
        "!wget https://pjreddie.com/media/files/yolov3.weights\n",
        "!wget https://pjreddie.com/media/files/darknet53.conv.74\n",
        "%cd ../"
      ],
      "execution_count": null,
      "outputs": []
    },
    {
      "cell_type": "code",
      "metadata": {
        "id": "KRQPtWrFi8Q8",
        "colab_type": "code",
        "colab": {}
      },
      "source": [
        "!cp -r /content/darknet/cfg \"/content/gdrive/My Drive/darknet\"\n",
        "!cp -r /content/darknet/data \"/content/gdrive/My Drive/darknet\"\n",
        "!cp -r /content/darknet/weights \"/content/gdrive/My Drive/darknet\""
      ],
      "execution_count": null,
      "outputs": []
    },
    {
      "cell_type": "code",
      "metadata": {
        "id": "s4z7qIwKx_JG",
        "colab_type": "code",
        "colab": {}
      },
      "source": [
        "# backup folder에 학습된 모델 backup해두기 위해서\n",
        "!mkdir '/content/gdrive/My Drive/darknet/backup'"
      ],
      "execution_count": null,
      "outputs": []
    },
    {
      "cell_type": "markdown",
      "metadata": {
        "id": "rnQISVlom0CF",
        "colab_type": "text"
      },
      "source": [
        "## 4. Test Yolo"
      ]
    },
    {
      "cell_type": "code",
      "metadata": {
        "id": "qm8CW4bDnHh5",
        "colab_type": "code",
        "colab": {}
      },
      "source": [
        "# Set execution permissions to Darknet\n",
        "!chmod +x ./darknet"
      ],
      "execution_count": null,
      "outputs": []
    },
    {
      "cell_type": "code",
      "metadata": {
        "id": "dVb0gujamzfN",
        "colab_type": "code",
        "colab": {}
      },
      "source": [
        "!./darknet detect cfg/yolov3.cfg weights/yolov3.weights data/dog.jpg\n",
        "imShow('predictions.jpg')"
      ],
      "execution_count": null,
      "outputs": []
    }
  ]
}