{
  "nbformat": 4,
  "nbformat_minor": 0,
  "metadata": {
    "colab": {
      "name": "DarknetSetup.ipynb",
      "provenance": [],
      "toc_visible": true,
      "authorship_tag": "ABX9TyPsGud8JUlxlXtox/rihZ5i",
      "include_colab_link": true
    },
    "kernelspec": {
      "name": "python3",
      "display_name": "Python 3"
    }
  },
  "cells": [
    {
      "cell_type": "markdown",
      "metadata": {
        "id": "view-in-github",
        "colab_type": "text"
      },
      "source": [
        "<a href=\"https://colab.research.google.com/github/Jeonyujeong/RottenFruitsModel/blob/master/DarknetSetup.ipynb\" target=\"_parent\"><img src=\"https://colab.research.google.com/assets/colab-badge.svg\" alt=\"Open In Colab\"/></a>"
      ]
    },
    {
      "cell_type": "markdown",
      "metadata": {
        "id": "Gqb0mryVet0n",
        "colab_type": "text"
      },
      "source": [
        "## 1. Connect the Colab notebook to Google Drive"
      ]
    },
    {
      "cell_type": "code",
      "metadata": {
        "id": "BP1bw9f6ebOF",
        "colab_type": "code",
        "colab": {
          "base_uri": "https://localhost:8080/",
          "height": 126
        },
        "outputId": "d202b49c-d39a-48d6-b31a-e4c3c9bb20d7"
      },
      "source": [
        "from google.colab import drive\n",
        "drive.mount('/content/gdrive')"
      ],
      "execution_count": 1,
      "outputs": [
        {
          "output_type": "stream",
          "text": [
            "Go to this URL in a browser: https://accounts.google.com/o/oauth2/auth?client_id=947318989803-6bn6qk8qdgf4n4g3pfee6491hc0brc4i.apps.googleusercontent.com&redirect_uri=urn%3aietf%3awg%3aoauth%3a2.0%3aoob&response_type=code&scope=email%20https%3a%2f%2fwww.googleapis.com%2fauth%2fdocs.test%20https%3a%2f%2fwww.googleapis.com%2fauth%2fdrive%20https%3a%2f%2fwww.googleapis.com%2fauth%2fdrive.photos.readonly%20https%3a%2f%2fwww.googleapis.com%2fauth%2fpeopleapi.readonly\n",
            "\n",
            "Enter your authorization code:\n",
            "··········\n",
            "Mounted at /content/gdrive\n"
          ],
          "name": "stdout"
        }
      ]
    },
    {
      "cell_type": "markdown",
      "metadata": {
        "id": "PCVZA_fWgo0m",
        "colab_type": "text"
      },
      "source": [
        "## 2. Install cuDNN according to the current CUDA version\n",
        "\n",
        "- Check CUDA release version\n",
        "\n"
      ]
    },
    {
      "cell_type": "code",
      "metadata": {
        "id": "XYNeV8LIe6ys",
        "colab_type": "code",
        "colab": {
          "base_uri": "https://localhost:8080/",
          "height": 88
        },
        "outputId": "c445ea8a-7903-4c89-b863-5bfd847b544d"
      },
      "source": [
        "!/usr/local/cuda/bin/nvcc --version"
      ],
      "execution_count": 2,
      "outputs": [
        {
          "output_type": "stream",
          "text": [
            "nvcc: NVIDIA (R) Cuda compiler driver\n",
            "Copyright (c) 2005-2019 NVIDIA Corporation\n",
            "Built on Sun_Jul_28_19:07:16_PDT_2019\n",
            "Cuda compilation tools, release 10.1, V10.1.243\n"
          ],
          "name": "stdout"
        }
      ]
    },
    {
      "cell_type": "markdown",
      "metadata": {
        "id": "M6ORGLf-g68C",
        "colab_type": "text"
      },
      "source": [
        "- Download cuDNN from [Nvidia website](https://developer.nvidia.com/cudnn)\n",
        "  - cudnn-10.1-linux-x64-v7.6.5.32.solitairetheme8\n",
        "- Create a folder named cuDNN in folder darknet. Copy the file there.\n",
        "```\n",
        "My Drive/\n",
        "    darknet/\n",
        "      cuDNN/\n",
        "        cudnn-10.1-linux-x64-v7.6.5.32.solitairetheme8\n",
        "```\n"
      ]
    },
    {
      "cell_type": "code",
      "metadata": {
        "id": "lfsDkOsIhfiR",
        "colab_type": "code",
        "colab": {
          "base_uri": "https://localhost:8080/",
          "height": 248
        },
        "outputId": "8939e52e-5646-4256-d822-a5fa0fd36d8e"
      },
      "source": [
        "!tar -xzvf /content/gdrive/My\\ Drive/darknet/cuDNN/cudnn-10.1-linux-x64-v7.6.5.32.solitairetheme8 -C /usr/local/\n",
        "!chmod a+r /usr/local/cuda/include/cudnn.h\n",
        "\n",
        "!cat /usr/local/cuda/include/cudnn.h | grep CUDNN_MAJOR -A 2"
      ],
      "execution_count": 3,
      "outputs": [
        {
          "output_type": "stream",
          "text": [
            "cuda/include/cudnn.h\n",
            "cuda/NVIDIA_SLA_cuDNN_Support.txt\n",
            "cuda/lib64/libcudnn.so\n",
            "cuda/lib64/libcudnn.so.7\n",
            "cuda/lib64/libcudnn.so.7.6.5\n",
            "cuda/lib64/libcudnn_static.a\n",
            "#define CUDNN_MAJOR 7\n",
            "#define CUDNN_MINOR 6\n",
            "#define CUDNN_PATCHLEVEL 5\n",
            "--\n",
            "#define CUDNN_VERSION (CUDNN_MAJOR * 1000 + CUDNN_MINOR * 100 + CUDNN_PATCHLEVEL)\n",
            "\n",
            "#include \"driver_types.h\"\n"
          ],
          "name": "stdout"
        }
      ]
    },
    {
      "cell_type": "markdown",
      "metadata": {
        "id": "xegWSP3whsqQ",
        "colab_type": "text"
      },
      "source": [
        "## 3. Install Darknet"
      ]
    },
    {
      "cell_type": "code",
      "metadata": {
        "id": "GsQc2z2EiVie",
        "colab_type": "code",
        "colab": {}
      },
      "source": [
        "# Leave this code uncommented on the very first run of your notebook or if you ever need to recompile darknet again.\n",
        "# Comment this code on the future runs.\n",
        "!git clone https://github.com/kriyeng/darknet/\n",
        "%cd darknet\n",
        "\n",
        "# Check the folder\n",
        "!ls\n",
        "\n",
        "# I have a branch where I have done the changes commented above\n",
        "!git checkout feature/google-colab\n",
        "\n",
        "#Compile Darknet\n",
        "!make\n",
        "\n",
        "#Copies the Darknet compiled version to Google drive\n",
        "!mkdir /content/gdrive/My\\ Drive/darknet/bin\n",
        "!cp ./darknet /content/gdrive/My\\ Drive/darknet/bin/darknet"
      ],
      "execution_count": null,
      "outputs": []
    },
    {
      "cell_type": "markdown",
      "metadata": {
        "id": "a7UyNVL-lZLE",
        "colab_type": "text"
      },
      "source": [
        "- Copy cfg, data, weights folders in Google Drive\n",
        "  - darknet 실행에 필요한 folder들을 구글 드라이브에 저장\n",
        "  - darknet53.conv.74 : darknet에서 이미 학습되어진 모델"
      ]
    },
    {
      "cell_type": "code",
      "metadata": {
        "id": "MDu4Fh0B3XW0",
        "colab_type": "code",
        "colab": {}
      },
      "source": [
        "# weigths 폴더 만들기 \n",
        "# /content/darknet/weights\n",
        "!mkdir /content/darknet/weights"
      ],
      "execution_count": null,
      "outputs": []
    },
    {
      "cell_type": "code",
      "metadata": {
        "id": "kzM1UkqymaH3",
        "colab_type": "code",
        "colab": {}
      },
      "source": [
        "%cd /content/darknet/weights\n",
        "!wget https://pjreddie.com/media/files/yolov3.weights\n",
        "!wget https://pjreddie.com/media/files/darknet53.conv.74\n",
        "%cd ../"
      ],
      "execution_count": null,
      "outputs": []
    },
    {
      "cell_type": "code",
      "metadata": {
        "id": "KRQPtWrFi8Q8",
        "colab_type": "code",
        "colab": {}
      },
      "source": [
        "!cp -r /content/darknet/cfg \"/content/gdrive/My Drive/darknet\"\n",
        "!cp -r /content/darknet/data \"/content/gdrive/My Drive/darknet\"\n",
        "!cp -r /content/darknet/weights \"/content/gdrive/My Drive/darknet\""
      ],
      "execution_count": null,
      "outputs": []
    },
    {
      "cell_type": "code",
      "metadata": {
        "id": "s4z7qIwKx_JG",
        "colab_type": "code",
        "colab": {}
      },
      "source": [
        "# backup folder에 학습된 모델 backup해두기 위해서\n",
        "!mkdir '/content/gdrive/My Drive/darknet/backup'"
      ],
      "execution_count": null,
      "outputs": []
    },
    {
      "cell_type": "markdown",
      "metadata": {
        "id": "rnQISVlom0CF",
        "colab_type": "text"
      },
      "source": [
        "## 4. Test Yolo"
      ]
    },
    {
      "cell_type": "code",
      "metadata": {
        "id": "qm8CW4bDnHh5",
        "colab_type": "code",
        "colab": {}
      },
      "source": [
        "# Set execution permissions to Darknet\n",
        "!chmod +x ./darknet"
      ],
      "execution_count": null,
      "outputs": []
    },
    {
      "cell_type": "code",
      "metadata": {
        "id": "dVb0gujamzfN",
        "colab_type": "code",
        "colab": {}
      },
      "source": [
        "!./darknet detect cfg/yolov3.cfg weights/yolov3.weights data/dog.jpg\n",
        "imShow('predictions.jpg')"
      ],
      "execution_count": null,
      "outputs": []
    }
  ]
}