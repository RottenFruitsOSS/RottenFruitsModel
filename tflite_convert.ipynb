{
  "nbformat": 4,
  "nbformat_minor": 0,
  "metadata": {
    "colab": {
      "name": "tflite_convert",
      "provenance": [],
      "collapsed_sections": [],
      "authorship_tag": "ABX9TyM/pum5Ut22kl0Oe88JGSc9",
      "include_colab_link": true
    },
    "kernelspec": {
      "name": "python3",
      "display_name": "Python 3"
    },
    "accelerator": "GPU"
  },
  "cells": [
    {
      "cell_type": "markdown",
      "metadata": {
        "id": "view-in-github",
        "colab_type": "text"
      },
      "source": [
        "<a href=\"https://colab.research.google.com/github/Jeonyujeong/RottenFruitsModel/blob/master/tflite_convert.ipynb\" target=\"_parent\"><img src=\"https://colab.research.google.com/assets/colab-badge.svg\" alt=\"Open In Colab\"/></a>"
      ]
    },
    {
      "cell_type": "markdown",
      "metadata": {
        "id": "0pz8Rd0a6al7",
        "colab_type": "text"
      },
      "source": [
        "# Converting a custom Darknet model to TensorFlow Lite\n",
        "[참고 사이트](https://medium.com/analytics-vidhya/converting-a-custom-darknet-model-to-tensorflow-lite-ffdd48d58082)"
      ]
    },
    {
      "cell_type": "code",
      "metadata": {
        "id": "_Eyi7XjFv8Zt",
        "colab_type": "code",
        "colab": {
          "base_uri": "https://localhost:8080/",
          "height": 35
        },
        "outputId": "e6ff1eae-8847-4860-c1f6-4ab0e91f4e9d"
      },
      "source": [
        "!python --version"
      ],
      "execution_count": null,
      "outputs": [
        {
          "output_type": "stream",
          "text": [
            "Python 3.6.9\n"
          ],
          "name": "stdout"
        }
      ]
    },
    {
      "cell_type": "code",
      "metadata": {
        "id": "9gY6hj863wTk",
        "colab_type": "code",
        "colab": {
          "base_uri": "https://localhost:8080/",
          "height": 52
        },
        "outputId": "5f81e200-7525-4700-999c-f03aa2d8f5bb"
      },
      "source": [
        "%tensorflow_version 1.x\n",
        "import tensorflow\n",
        "print(tensorflow.__version__)"
      ],
      "execution_count": null,
      "outputs": [
        {
          "output_type": "stream",
          "text": [
            "TensorFlow is already loaded. Please restart the runtime to change versions.\n",
            "2.2.0\n"
          ],
          "name": "stdout"
        }
      ]
    },
    {
      "cell_type": "code",
      "metadata": {
        "id": "yYWk4IT05RVg",
        "colab_type": "code",
        "colab": {
          "base_uri": "https://localhost:8080/",
          "height": 126
        },
        "outputId": "48d9669d-c562-46f1-f935-4f82f74a5bd9"
      },
      "source": [
        "from google.colab import drive\n",
        "drive.mount('/content/gdrive')"
      ],
      "execution_count": null,
      "outputs": [
        {
          "output_type": "stream",
          "text": [
            "Go to this URL in a browser: https://accounts.google.com/o/oauth2/auth?client_id=947318989803-6bn6qk8qdgf4n4g3pfee6491hc0brc4i.apps.googleusercontent.com&redirect_uri=urn%3aietf%3awg%3aoauth%3a2.0%3aoob&response_type=code&scope=email%20https%3a%2f%2fwww.googleapis.com%2fauth%2fdocs.test%20https%3a%2f%2fwww.googleapis.com%2fauth%2fdrive%20https%3a%2f%2fwww.googleapis.com%2fauth%2fdrive.photos.readonly%20https%3a%2f%2fwww.googleapis.com%2fauth%2fpeopleapi.readonly\n",
            "\n",
            "Enter your authorization code:\n",
            "··········\n",
            "Mounted at /content/gdrive\n"
          ],
          "name": "stdout"
        }
      ]
    },
    {
      "cell_type": "code",
      "metadata": {
        "id": "EPPrR5DN7Dn-",
        "colab_type": "code",
        "colab": {}
      },
      "source": [
        "!wget https://raw.githubusercontent.com/pjreddie/darknet/master/data/coco.names\n",
        "!wget https://raw.githubusercontent.com/mystic123/tensorflow-yolo-v3/master/convert_weights_pb.py\n",
        "!wget https://raw.githubusercontent.com/mystic123/tensorflow-yolo-v3/master/convert_weights.py"
      ],
      "execution_count": null,
      "outputs": []
    },
    {
      "cell_type": "code",
      "metadata": {
        "id": "E4C--UD58SpU",
        "colab_type": "code",
        "colab": {}
      },
      "source": [
        "!wget https://raw.githubusercontent.com/mystic123/tensorflow-yolo-v3/master/yolo_v3.py\n",
        "!wget https://raw.githubusercontent.com/mystic123/tensorflow-yolo-v3/master/demo.py\n",
        "!wget https://raw.githubusercontent.com/mystic123/tensorflow-yolo-v3/master/utils.py"
      ],
      "execution_count": null,
      "outputs": []
    },
    {
      "cell_type": "code",
      "metadata": {
        "id": "2mlkFeRw-hvl",
        "colab_type": "code",
        "colab": {}
      },
      "source": [
        "!wget https://raw.githubusercontent.com/mystic123/tensorflow-yolo-v3/master/yolo_v3_tiny.py"
      ],
      "execution_count": null,
      "outputs": []
    },
    {
      "cell_type": "code",
      "metadata": {
        "id": "lmkJsQtc6LYC",
        "colab_type": "code",
        "colab": {}
      },
      "source": [
        "!python ./convert_weights.py"
      ],
      "execution_count": null,
      "outputs": []
    },
    {
      "cell_type": "code",
      "metadata": {
        "id": "b3KuUG558d_J",
        "colab_type": "code",
        "colab": {}
      },
      "source": [
        "!cat yolo_v3.py"
      ],
      "execution_count": null,
      "outputs": []
    },
    {
      "cell_type": "code",
      "metadata": {
        "id": "ai7wZEKs4sm-",
        "colab_type": "code",
        "colab": {
          "base_uri": "https://localhost:8080/",
          "height": 1000
        },
        "outputId": "468997e6-ad85-44be-943e-275ebe583ce4"
      },
      "source": [
        "!python convert_weights_pb.py --class_names \"/content/gdrive/My Drive/darknet/custom/classes.names\"\\\n",
        " --weights_file \"/content/gdrive/My Drive/darknet/backup/custom-train-yolo_last.weights\" \\\n",
        " --data_format \"NHWC\" --tiny"
      ],
      "execution_count": null,
      "outputs": [
        {
          "output_type": "stream",
          "text": [
            "WARNING:tensorflow:\n",
            "The TensorFlow contrib module will not be included in TensorFlow 2.0.\n",
            "For more information, please see:\n",
            "  * https://github.com/tensorflow/community/blob/master/rfcs/20180907-contrib-sunset.md\n",
            "  * https://github.com/tensorflow/addons\n",
            "  * https://github.com/tensorflow/io (for I/O related ops)\n",
            "If you depend on functionality not listed there, please file an issue.\n",
            "\n",
            "WARNING:tensorflow:From convert_weights_pb.py:56: The name tf.app.run is deprecated. Please use tf.compat.v1.app.run instead.\n",
            "\n",
            "WARNING:tensorflow:From convert_weights_pb.py:42: The name tf.placeholder is deprecated. Please use tf.compat.v1.placeholder instead.\n",
            "\n",
            "W0717 04:14:44.823178 140422240294784 module_wrapper.py:139] From convert_weights_pb.py:42: The name tf.placeholder is deprecated. Please use tf.compat.v1.placeholder instead.\n",
            "\n",
            "WARNING:tensorflow:From convert_weights_pb.py:44: The name tf.variable_scope is deprecated. Please use tf.compat.v1.variable_scope instead.\n",
            "\n",
            "W0717 04:14:44.825248 140422240294784 module_wrapper.py:139] From convert_weights_pb.py:44: The name tf.variable_scope is deprecated. Please use tf.compat.v1.variable_scope instead.\n",
            "\n",
            "WARNING:tensorflow:From /tensorflow-1.15.2/python3.6/tensorflow_core/contrib/layers/python/layers/layers.py:1057: Layer.apply (from tensorflow.python.keras.engine.base_layer) is deprecated and will be removed in a future version.\n",
            "Instructions for updating:\n",
            "Please use `layer.__call__` method instead.\n",
            "W0717 04:14:44.829952 140422240294784 deprecation.py:323] From /tensorflow-1.15.2/python3.6/tensorflow_core/contrib/layers/python/layers/layers.py:1057: Layer.apply (from tensorflow.python.keras.engine.base_layer) is deprecated and will be removed in a future version.\n",
            "Instructions for updating:\n",
            "Please use `layer.__call__` method instead.\n",
            "WARNING:tensorflow:From /content/yolo_v3.py:193: The name tf.image.resize_nearest_neighbor is deprecated. Please use tf.compat.v1.image.resize_nearest_neighbor instead.\n",
            "\n",
            "W0717 04:14:45.195287 140422240294784 module_wrapper.py:139] From /content/yolo_v3.py:193: The name tf.image.resize_nearest_neighbor is deprecated. Please use tf.compat.v1.image.resize_nearest_neighbor instead.\n",
            "\n",
            "WARNING:tensorflow:From convert_weights_pb.py:46: The name tf.global_variables is deprecated. Please use tf.compat.v1.global_variables instead.\n",
            "\n",
            "W0717 04:14:45.279136 140422240294784 module_wrapper.py:139] From convert_weights_pb.py:46: The name tf.global_variables is deprecated. Please use tf.compat.v1.global_variables instead.\n",
            "\n",
            "WARNING:tensorflow:From /content/utils.py:93: The name tf.assign is deprecated. Please use tf.compat.v1.assign instead.\n",
            "\n",
            "W0717 04:14:48.462197 140422240294784 module_wrapper.py:139] From /content/utils.py:93: The name tf.assign is deprecated. Please use tf.compat.v1.assign instead.\n",
            "\n",
            "WARNING:tensorflow:From convert_weights_pb.py:51: The name tf.Session is deprecated. Please use tf.compat.v1.Session instead.\n",
            "\n",
            "W0717 04:14:48.887336 140422240294784 module_wrapper.py:139] From convert_weights_pb.py:51: The name tf.Session is deprecated. Please use tf.compat.v1.Session instead.\n",
            "\n",
            "2020-07-17 04:14:48.917101: I tensorflow/stream_executor/platform/default/dso_loader.cc:44] Successfully opened dynamic library libcuda.so.1\n",
            "2020-07-17 04:14:48.984367: E tensorflow/stream_executor/cuda/cuda_driver.cc:318] failed call to cuInit: CUDA_ERROR_NO_DEVICE: no CUDA-capable device is detected\n",
            "2020-07-17 04:14:48.984442: I tensorflow/stream_executor/cuda/cuda_diagnostics.cc:156] kernel driver does not appear to be running on this host (bbe3dc564ded): /proc/driver/nvidia/version does not exist\n",
            "2020-07-17 04:14:49.000480: I tensorflow/core/platform/profile_utils/cpu_utils.cc:94] CPU Frequency: 2200000000 Hz\n",
            "2020-07-17 04:14:49.001023: I tensorflow/compiler/xla/service/service.cc:168] XLA service 0x2ba0d80 initialized for platform Host (this does not guarantee that XLA will be used). Devices:\n",
            "2020-07-17 04:14:49.001075: I tensorflow/compiler/xla/service/service.cc:176]   StreamExecutor device (0): Host, Default Version\n",
            "WARNING:tensorflow:From /content/utils.py:52: The name tf.get_default_graph is deprecated. Please use tf.compat.v1.get_default_graph instead.\n",
            "\n",
            "W0717 04:14:49.328358 140422240294784 module_wrapper.py:139] From /content/utils.py:52: The name tf.get_default_graph is deprecated. Please use tf.compat.v1.get_default_graph instead.\n",
            "\n",
            "WARNING:tensorflow:From /content/utils.py:53: convert_variables_to_constants (from tensorflow.python.framework.graph_util_impl) is deprecated and will be removed in a future version.\n",
            "Instructions for updating:\n",
            "Use `tf.compat.v1.graph_util.convert_variables_to_constants`\n",
            "W0717 04:14:49.369726 140422240294784 deprecation.py:323] From /content/utils.py:53: convert_variables_to_constants (from tensorflow.python.framework.graph_util_impl) is deprecated and will be removed in a future version.\n",
            "Instructions for updating:\n",
            "Use `tf.compat.v1.graph_util.convert_variables_to_constants`\n",
            "WARNING:tensorflow:From /tensorflow-1.15.2/python3.6/tensorflow_core/python/framework/graph_util_impl.py:277: extract_sub_graph (from tensorflow.python.framework.graph_util_impl) is deprecated and will be removed in a future version.\n",
            "Instructions for updating:\n",
            "Use `tf.compat.v1.graph_util.extract_sub_graph`\n",
            "W0717 04:14:49.370062 140422240294784 deprecation.py:323] From /tensorflow-1.15.2/python3.6/tensorflow_core/python/framework/graph_util_impl.py:277: extract_sub_graph (from tensorflow.python.framework.graph_util_impl) is deprecated and will be removed in a future version.\n",
            "Instructions for updating:\n",
            "Use `tf.compat.v1.graph_util.extract_sub_graph`\n",
            "INFO:tensorflow:Froze 59 variables.\n",
            "I0717 04:14:49.525489 140422240294784 graph_util_impl.py:334] Froze 59 variables.\n",
            "INFO:tensorflow:Converted 59 variables to const ops.\n",
            "I0717 04:14:49.556754 140422240294784 graph_util_impl.py:394] Converted 59 variables to const ops.\n",
            "WARNING:tensorflow:From /content/utils.py:56: The name tf.gfile.GFile is deprecated. Please use tf.io.gfile.GFile instead.\n",
            "\n",
            "W0717 04:14:49.560301 140422240294784 module_wrapper.py:139] From /content/utils.py:56: The name tf.gfile.GFile is deprecated. Please use tf.io.gfile.GFile instead.\n",
            "\n",
            "299 ops written to frozen_darknet_yolov3_model.pb.\n"
          ],
          "name": "stdout"
        }
      ]
    },
    {
      "cell_type": "code",
      "metadata": {
        "id": "i2cLCQ3__701",
        "colab_type": "code",
        "colab": {
          "base_uri": "https://localhost:8080/",
          "height": 126
        },
        "outputId": "d34d60e5-cb57-4e5d-9814-1005a356cfbe"
      },
      "source": [
        "!pip install netron"
      ],
      "execution_count": null,
      "outputs": [
        {
          "output_type": "stream",
          "text": [
            "Collecting netron\n",
            "\u001b[?25l  Downloading https://files.pythonhosted.org/packages/0c/06/7069400d8d1f8294ab5b9ffae03428d2e955273e7ce402369ca452630b8b/netron-4.3.9-py2.py3-none-any.whl (1.4MB)\n",
            "\u001b[K     |████████████████████████████████| 1.4MB 2.7MB/s \n",
            "\u001b[?25hInstalling collected packages: netron\n",
            "Successfully installed netron-4.3.9\n"
          ],
          "name": "stdout"
        }
      ]
    },
    {
      "cell_type": "code",
      "metadata": {
        "id": "kGQtTp8vBRoJ",
        "colab_type": "code",
        "colab": {
          "base_uri": "https://localhost:8080/",
          "height": 232
        },
        "outputId": "d652298d-424a-40d5-b35a-ac92db505b33"
      },
      "source": [
        "!tflite_convert --graph_def_file=/content/frozen_darknet_yolov3_model.pb\\\n",
        " --output_file=yolov3-tiny.tflite\\\n",
        "  --input_format=TENSORFLOW_GRAPHDEF \\\n",
        "  --output_format=TFLITE \\\n",
        "  --input_shape=1,416,416,3 \\\n",
        "  --input_array=inputs\\\n",
        "   --output_array=output_boxes\\\n",
        "    --inference_type=FLOAT --input_data_type=FLOAT"
      ],
      "execution_count": null,
      "outputs": [
        {
          "output_type": "stream",
          "text": [
            "2020-07-22 15:18:00.478653: I tensorflow/stream_executor/platform/default/dso_loader.cc:44] Successfully opened dynamic library libcuda.so.1\n",
            "2020-07-22 15:18:00.481553: E tensorflow/stream_executor/cuda/cuda_driver.cc:318] failed call to cuInit: CUDA_ERROR_NO_DEVICE: no CUDA-capable device is detected\n",
            "2020-07-22 15:18:00.481627: I tensorflow/stream_executor/cuda/cuda_diagnostics.cc:156] kernel driver does not appear to be running on this host (eddc0055b36c): /proc/driver/nvidia/version does not exist\n",
            "2020-07-22 15:18:00.509598: I tensorflow/core/platform/profile_utils/cpu_utils.cc:94] CPU Frequency: 2300000000 Hz\n",
            "2020-07-22 15:18:00.509902: I tensorflow/compiler/xla/service/service.cc:168] XLA service 0x1e74a00 initialized for platform Host (this does not guarantee that XLA will be used). Devices:\n",
            "2020-07-22 15:18:00.509942: I tensorflow/compiler/xla/service/service.cc:176]   StreamExecutor device (0): Host, Default Version\n",
            "2020-07-22 15:18:00.794897: I tensorflow/core/grappler/devices.cc:55] Number of eligible GPUs (core count >= 8, compute capability >= 0.0): 0\n",
            "2020-07-22 15:18:00.795119: I tensorflow/core/grappler/clusters/single_machine.cc:356] Starting new session\n",
            "2020-07-22 15:18:01.167693: I tensorflow/core/grappler/optimizers/meta_optimizer.cc:786] Optimization results for grappler item: graph_to_optimize\n",
            "2020-07-22 15:18:01.167754: I tensorflow/core/grappler/optimizers/meta_optimizer.cc:788]   constant_folding: Graph size after: 170 nodes (-129), 185 edges (-131), time = 235.552ms.\n",
            "2020-07-22 15:18:01.167769: I tensorflow/core/grappler/optimizers/meta_optimizer.cc:788]   constant_folding: Graph size after: 170 nodes (0), 185 edges (0), time = 82.778ms.\n"
          ],
          "name": "stdout"
        }
      ]
    },
    {
      "cell_type": "code",
      "metadata": {
        "id": "cGvgIFvDBaai",
        "colab_type": "code",
        "colab": {}
      },
      "source": [
        "!pip install --upgrade tf_nightly"
      ],
      "execution_count": null,
      "outputs": []
    },
    {
      "cell_type": "code",
      "metadata": {
        "id": "VdSsLo2SGyOZ",
        "colab_type": "code",
        "colab": {
          "base_uri": "https://localhost:8080/",
          "height": 70
        },
        "outputId": "9b47abcf-8ed2-46c2-aefd-457fe1ee51e4"
      },
      "source": [
        "import tensorflow as tf\n",
        "interpreter = tf.lite.Interpreter(model_path=\"/content/RottenFruitsModel/metadata_create/yolov3-tiny.tflite\")\n",
        "interpreter.allocate_tensors()\n",
        "\n",
        "# Print input shape and type\n",
        "print(interpreter.get_input_details()[0]['shape'])  # Example: [1 224 224 3]\n",
        "print(interpreter.get_input_details()[0]['dtype'])  # Example: <class 'numpy.float32'>\n",
        "# Print output shape and type\n",
        "print(interpreter.get_output_details()[0]['shape'])  # Example: [1 1000]"
      ],
      "execution_count": null,
      "outputs": [
        {
          "output_type": "stream",
          "text": [
            "[  1 416 416   3]\n",
            "<class 'numpy.float32'>\n",
            "[   1 2535    9]\n"
          ],
          "name": "stdout"
        }
      ]
    },
    {
      "cell_type": "markdown",
      "metadata": {
        "id": "5m_ewQwRFw4a",
        "colab_type": "text"
      },
      "source": [
        "demo.py 실행"
      ]
    },
    {
      "cell_type": "code",
      "metadata": {
        "id": "NobVUHs0-7-z",
        "colab_type": "code",
        "colab": {
          "base_uri": "https://localhost:8080/",
          "height": 141
        },
        "outputId": "336b11c6-40da-4272-ac7c-be47fd276426"
      },
      "source": [
        "!git clone https://github.com/mystic123/tensorflow-yolo-v3.git"
      ],
      "execution_count": null,
      "outputs": [
        {
          "output_type": "stream",
          "text": [
            "Cloning into 'tensorflow-yolo-v3'...\n",
            "remote: Enumerating objects: 6, done.\u001b[K\n",
            "remote: Counting objects: 100% (6/6), done.\u001b[K\n",
            "remote: Compressing objects: 100% (6/6), done.\u001b[K\n",
            "remote: Total 219 (delta 1), reused 2 (delta 0), pack-reused 213\u001b[K\n",
            "Receiving objects: 100% (219/219), 59.90 KiB | 5.99 MiB/s, done.\n",
            "Resolving deltas: 100% (111/111), done.\n"
          ],
          "name": "stdout"
        }
      ]
    },
    {
      "cell_type": "code",
      "metadata": {
        "id": "fjLXeUa5_Kg8",
        "colab_type": "code",
        "colab": {
          "base_uri": "https://localhost:8080/",
          "height": 35
        },
        "outputId": "e2666685-b06a-4bca-defa-5f19565ef5c6"
      },
      "source": [
        "%cd tensorflow-yolo-v3/"
      ],
      "execution_count": null,
      "outputs": [
        {
          "output_type": "stream",
          "text": [
            "/content/tensorflow-yolo-v3\n"
          ],
          "name": "stdout"
        }
      ]
    },
    {
      "cell_type": "code",
      "metadata": {
        "id": "aSvNIw3__xmp",
        "colab_type": "code",
        "colab": {
          "base_uri": "https://localhost:8080/",
          "height": 212
        },
        "outputId": "25ea3a92-68d4-4513-cd7b-7862c6e26237"
      },
      "source": [
        "!wget https://raw.githubusercontent.com/pjreddie/darknet/master/data/coco.names"
      ],
      "execution_count": null,
      "outputs": [
        {
          "output_type": "stream",
          "text": [
            "--2020-07-22 14:48:20--  https://raw.githubusercontent.com/pjreddie/darknet/master/data/coco.names\n",
            "Resolving raw.githubusercontent.com (raw.githubusercontent.com)... 151.101.0.133, 151.101.64.133, 151.101.128.133, ...\n",
            "Connecting to raw.githubusercontent.com (raw.githubusercontent.com)|151.101.0.133|:443... connected.\n",
            "HTTP request sent, awaiting response... 200 OK\n",
            "Length: 625 [text/plain]\n",
            "Saving to: ‘coco.names’\n",
            "\n",
            "\rcoco.names            0%[                    ]       0  --.-KB/s               \rcoco.names          100%[===================>]     625  --.-KB/s    in 0s      \n",
            "\n",
            "2020-07-22 14:48:21 (31.4 MB/s) - ‘coco.names’ saved [625/625]\n",
            "\n"
          ],
          "name": "stdout"
        }
      ]
    },
    {
      "cell_type": "code",
      "metadata": {
        "id": "pRnBr8LK987K",
        "colab_type": "code",
        "colab": {}
      },
      "source": [
        "!python ./demo.py --input_img /content/cherry_image.jpg --output_img output_cherry --frozen_model /content/frozen_darknet_yolov3_model.pb"
      ],
      "execution_count": null,
      "outputs": []
    },
    {
      "cell_type": "markdown",
      "metadata": {
        "id": "f-_avWPP0xlU",
        "colab_type": "text"
      },
      "source": [
        "# 새로운 방법\n"
      ]
    },
    {
      "cell_type": "code",
      "metadata": {
        "id": "qjdY1b152cb_",
        "colab_type": "code",
        "colab": {
          "base_uri": "https://localhost:8080/",
          "height": 52
        },
        "outputId": "738212ba-a197-4b58-f7e5-2ca9bcf0f253"
      },
      "source": [
        "%tensorflow_version 1.x\n",
        "import tensorflow\n",
        "print(tensorflow.__version__)"
      ],
      "execution_count": null,
      "outputs": [
        {
          "output_type": "stream",
          "text": [
            "TensorFlow 1.x selected.\n",
            "1.15.2\n"
          ],
          "name": "stdout"
        }
      ]
    },
    {
      "cell_type": "code",
      "metadata": {
        "id": "z2ArbqgW052C",
        "colab_type": "code",
        "colab": {
          "base_uri": "https://localhost:8080/",
          "height": 124
        },
        "outputId": "d86983fa-5065-48bb-b2ac-1302eac04cca"
      },
      "source": [
        "!git clone https://github.com/RottenFruitsOSS/RottenFruitsModel.git"
      ],
      "execution_count": null,
      "outputs": [
        {
          "output_type": "stream",
          "text": [
            "Cloning into 'RottenFruitsModel'...\n",
            "remote: Enumerating objects: 13, done.\u001b[K\n",
            "remote: Counting objects: 100% (13/13), done.\u001b[K\n",
            "remote: Compressing objects: 100% (9/9), done.\u001b[K\n",
            "remote: Total 13 (delta 1), reused 13 (delta 1), pack-reused 0\u001b[K\n",
            "Unpacking objects: 100% (13/13), done.\n"
          ],
          "name": "stdout"
        }
      ]
    },
    {
      "cell_type": "code",
      "metadata": {
        "id": "atYA0T3n0_SQ",
        "colab_type": "code",
        "colab": {
          "base_uri": "https://localhost:8080/",
          "height": 35
        },
        "outputId": "db02ff1b-df26-4254-f55c-d7e0ca027698"
      },
      "source": [
        "%cd RottenFruitsModel/metadata_create/"
      ],
      "execution_count": null,
      "outputs": [
        {
          "output_type": "stream",
          "text": [
            "/content/RottenFruitsModel/metadata_create\n"
          ],
          "name": "stdout"
        }
      ]
    },
    {
      "cell_type": "code",
      "metadata": {
        "id": "UfHt5QED-0d8",
        "colab_type": "code",
        "colab": {
          "base_uri": "https://localhost:8080/",
          "height": 35
        },
        "outputId": "22cd3433-a970-4e41-ccce-929b7a10fa41"
      },
      "source": [
        "import tensorflow as tf\n",
        "localpb = '/content/RottenFruitsModel/metadata_create/frozen_darknet_yolov3_model.pb'\n",
        "tflite_file = 'tflite_vesion_2.lite'\n",
        "print(\"{} -> {}\".format(localpb, tflite_file))\n",
        "converter = tf.lite.TFLiteConverter.from_frozen_graph(\n",
        "localpb,\n",
        "['inputs'],\n",
        "['output_boxes']\n",
        ")\n",
        "tflite_model = converter.convert()\n",
        "open(tflite_file,'wb').write(tflite_model)\n",
        "\n",
        "interpreter = tf.lite.Interpreter(model_content=tflite_model)\n",
        "interpreter.allocate_tensors()"
      ],
      "execution_count": null,
      "outputs": [
        {
          "output_type": "stream",
          "text": [
            "/content/RottenFruitsModel/metadata_create/frozen_darknet_yolov3_model.pb -> tflite_vesion_2.lite\n"
          ],
          "name": "stdout"
        }
      ]
    },
    {
      "cell_type": "code",
      "metadata": {
        "id": "Z-hitG3I1e9P",
        "colab_type": "code",
        "colab": {
          "base_uri": "https://localhost:8080/",
          "height": 70
        },
        "outputId": "7015b078-2a7f-44c8-d409-40753f5435d6"
      },
      "source": [
        "import tensorflow as tf\n",
        "interpreter = tf.lite.Interpreter(model_path=\"/content/RottenFruitsModel/metadata_create/tflite_vesion_2.lite\")\n",
        "interpreter.allocate_tensors()\n",
        "\n",
        "# Print input shape and type\n",
        "print(interpreter.get_input_details()[0]['shape'])  # Example: [1 224 224 3]\n",
        "print(interpreter.get_input_details()[0]['dtype'])  # Example: <class 'numpy.float32'>\n",
        "# Print output shape and type\n",
        "print(interpreter.get_output_details()[0]['shape'])  # Example: [1 1000]"
      ],
      "execution_count": null,
      "outputs": [
        {
          "output_type": "stream",
          "text": [
            "[  1 416 416   3]\n",
            "<class 'numpy.float32'>\n",
            "[   1 2535    9]\n"
          ],
          "name": "stdout"
        }
      ]
    },
    {
      "cell_type": "markdown",
      "metadata": {
        "id": "3G97TW9g_FKv",
        "colab_type": "text"
      },
      "source": [
        "# TensorFlow version 2"
      ]
    },
    {
      "cell_type": "code",
      "metadata": {
        "id": "qJKHOTwz_ShU",
        "colab_type": "code",
        "colab": {}
      },
      "source": [
        "import tensorflow as tf"
      ],
      "execution_count": null,
      "outputs": []
    },
    {
      "cell_type": "code",
      "metadata": {
        "id": "nIM8n3Ma_bpV",
        "colab_type": "code",
        "colab": {
          "base_uri": "https://localhost:8080/",
          "height": 124
        },
        "outputId": "16430df1-f9a1-4741-9532-f782d76f2c67"
      },
      "source": [
        "!git clone https://github.com/RottenFruitsOSS/RottenFruitsModel.git"
      ],
      "execution_count": null,
      "outputs": [
        {
          "output_type": "stream",
          "text": [
            "Cloning into 'RottenFruitsModel'...\n",
            "remote: Enumerating objects: 13, done.\u001b[K\n",
            "remote: Counting objects: 100% (13/13), done.\u001b[K\n",
            "remote: Compressing objects: 100% (9/9), done.\u001b[K\n",
            "remote: Total 13 (delta 1), reused 13 (delta 1), pack-reused 0\u001b[K\n",
            "Unpacking objects: 100% (13/13), done.\n"
          ],
          "name": "stdout"
        }
      ]
    },
    {
      "cell_type": "code",
      "metadata": {
        "id": "py2SjGcK_eTl",
        "colab_type": "code",
        "colab": {
          "base_uri": "https://localhost:8080/",
          "height": 35
        },
        "outputId": "5ead6e37-7fff-404f-df8a-f5ec4a7e54db"
      },
      "source": [
        "%cd RottenFruitsModel/metadata_create/"
      ],
      "execution_count": null,
      "outputs": [
        {
          "output_type": "stream",
          "text": [
            "/content/RottenFruitsModel/metadata_create\n"
          ],
          "name": "stdout"
        }
      ]
    },
    {
      "cell_type": "code",
      "metadata": {
        "id": "WuMyDX8T3T4V",
        "colab_type": "code",
        "colab": {}
      },
      "source": [
        "model = '/content/RottenFruitsModel/metadata_create/frozen_darknet_yolov3_model.pb'\n",
        "converter = tf.lite.TFLiteConverter.from_keras_model(model)\n",
        "tflite_model = converter.convert()\n",
        "open(\"converted_model.tflite\", \"wb\").write(tflite_model)"
      ],
      "execution_count": null,
      "outputs": []
    },
    {
      "cell_type": "code",
      "metadata": {
        "id": "K81zAj7a_gwK",
        "colab_type": "code",
        "colab": {
          "base_uri": "https://localhost:8080/",
          "height": 348
        },
        "outputId": "ab6ff70c-38b8-48fc-b31a-3bbe9324dd54"
      },
      "source": [
        "export_dir = \"/content/RottenFruitsModel/metadata_create\"\n",
        "converter = tf.lite.TFLiteConverter.from_saved_model(export_dir)\n",
        "tflite_model = converter.convert()"
      ],
      "execution_count": null,
      "outputs": [
        {
          "output_type": "stream",
          "text": [
            "INFO:tensorflow:Saver not created because there are no variables in the graph to restore\n"
          ],
          "name": "stdout"
        },
        {
          "output_type": "error",
          "ename": "ValueError",
          "evalue": "ignored",
          "traceback": [
            "\u001b[0;31m---------------------------------------------------------------------------\u001b[0m",
            "\u001b[0;31mValueError\u001b[0m                                Traceback (most recent call last)",
            "\u001b[0;32m<ipython-input-11-f2ceacbb10ed>\u001b[0m in \u001b[0;36m<module>\u001b[0;34m()\u001b[0m\n\u001b[1;32m      1\u001b[0m \u001b[0mexport_dir\u001b[0m \u001b[0;34m=\u001b[0m \u001b[0;34m\"/content/RottenFruitsModel/metadata_create\"\u001b[0m\u001b[0;34m\u001b[0m\u001b[0;34m\u001b[0m\u001b[0m\n\u001b[1;32m      2\u001b[0m \u001b[0mconverter\u001b[0m \u001b[0;34m=\u001b[0m \u001b[0mtf\u001b[0m\u001b[0;34m.\u001b[0m\u001b[0mlite\u001b[0m\u001b[0;34m.\u001b[0m\u001b[0mTFLiteConverter\u001b[0m\u001b[0;34m.\u001b[0m\u001b[0mfrom_saved_model\u001b[0m\u001b[0;34m(\u001b[0m\u001b[0mexport_dir\u001b[0m\u001b[0;34m)\u001b[0m\u001b[0;34m\u001b[0m\u001b[0;34m\u001b[0m\u001b[0m\n\u001b[0;32m----> 3\u001b[0;31m \u001b[0mtflite_model\u001b[0m \u001b[0;34m=\u001b[0m \u001b[0mconverter\u001b[0m\u001b[0;34m.\u001b[0m\u001b[0mconvert\u001b[0m\u001b[0;34m(\u001b[0m\u001b[0;34m)\u001b[0m\u001b[0;34m\u001b[0m\u001b[0;34m\u001b[0m\u001b[0m\n\u001b[0m",
            "\u001b[0;32m/usr/local/lib/python3.6/dist-packages/tensorflow/lite/python/lite.py\u001b[0m in \u001b[0;36mconvert\u001b[0;34m(self)\u001b[0m\n\u001b[1;32m    450\u001b[0m     \u001b[0;31m# TODO(b/130297984): Add support for converting multiple function.\u001b[0m\u001b[0;34m\u001b[0m\u001b[0;34m\u001b[0m\u001b[0;34m\u001b[0m\u001b[0m\n\u001b[1;32m    451\u001b[0m     \u001b[0;32mif\u001b[0m \u001b[0mlen\u001b[0m\u001b[0;34m(\u001b[0m\u001b[0mself\u001b[0m\u001b[0;34m.\u001b[0m\u001b[0m_funcs\u001b[0m\u001b[0;34m)\u001b[0m \u001b[0;34m!=\u001b[0m \u001b[0;36m1\u001b[0m\u001b[0;34m:\u001b[0m\u001b[0;34m\u001b[0m\u001b[0;34m\u001b[0m\u001b[0m\n\u001b[0;32m--> 452\u001b[0;31m       raise ValueError(\"This converter can only convert a single \"\n\u001b[0m\u001b[1;32m    453\u001b[0m                        \u001b[0;34m\"ConcreteFunction. Converting multiple functions is \"\u001b[0m\u001b[0;34m\u001b[0m\u001b[0;34m\u001b[0m\u001b[0m\n\u001b[1;32m    454\u001b[0m                        \"under development.\")\n",
            "\u001b[0;31mValueError\u001b[0m: This converter can only convert a single ConcreteFunction. Converting multiple functions is under development."
          ]
        }
      ]
    },
    {
      "cell_type": "code",
      "metadata": {
        "id": "OIkW9UaLBDPN",
        "colab_type": "code",
        "colab": {}
      },
      "source": [
        ""
      ],
      "execution_count": null,
      "outputs": []
    }
  ]
}